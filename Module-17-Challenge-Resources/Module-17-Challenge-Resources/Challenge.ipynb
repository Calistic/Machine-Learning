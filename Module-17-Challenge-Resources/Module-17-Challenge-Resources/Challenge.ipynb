{
 "nbformat": 4,
 "nbformat_minor": 2,
 "metadata": {
  "language_info": {
   "name": "python",
   "codemirror_mode": {
    "name": "ipython",
    "version": 3
   },
   "version": "3.7.6-final"
  },
  "orig_nbformat": 2,
  "file_extension": ".py",
  "mimetype": "text/x-python",
  "name": "python",
  "npconvert_exporter": "python",
  "pygments_lexer": "ipython3",
  "version": 3,
  "kernelspec": {
   "name": "mlenv",
   "display_name": "mlenv"
  }
 },
 "cells": [
  {
   "cell_type": "code",
   "execution_count": 2,
   "metadata": {},
   "outputs": [],
   "source": [
    "import warnings\n",
    "warnings.filterwarnings('ignore')"
   ]
  },
  {
   "cell_type": "code",
   "execution_count": 3,
   "metadata": {},
   "outputs": [],
   "source": [
    "import numpy as np\n",
    "import pandas as pd\n",
    "from pathlib import Path\n",
    "from collections import Counter"
   ]
  },
  {
   "cell_type": "code",
   "execution_count": 4,
   "metadata": {},
   "outputs": [],
   "source": [
    "from sklearn.metrics import balanced_accuracy_score\n",
    "from sklearn.metrics import confusion_matrix\n",
    "from imblearn.metrics import classification_report_imbalanced"
   ]
  },
  {
   "cell_type": "markdown",
   "metadata": {},
   "source": [
    "# Read the CSV and Perform Basic Data Cleaning"
   ]
  },
  {
   "cell_type": "code",
   "execution_count": 5,
   "metadata": {},
   "outputs": [],
   "source": [
    "# https://help.lendingclub.com/hc/en-us/articles/215488038-What-do-the-different-Note-statuses-mean-\n",
    "\n",
    "columns = [\n",
    "    \"loan_amnt\", \"int_rate\", \"installment\", \"home_ownership\",\n",
    "    \"annual_inc\", \"verification_status\", \"issue_d\", \"loan_status\",\n",
    "    \"pymnt_plan\", \"dti\", \"delinq_2yrs\", \"inq_last_6mths\",\n",
    "    \"open_acc\", \"pub_rec\", \"revol_bal\", \"total_acc\",\n",
    "    \"initial_list_status\", \"out_prncp\", \"out_prncp_inv\", \"total_pymnt\",\n",
    "    \"total_pymnt_inv\", \"total_rec_prncp\", \"total_rec_int\", \"total_rec_late_fee\",\n",
    "    \"recoveries\", \"collection_recovery_fee\", \"last_pymnt_amnt\", \"next_pymnt_d\",\n",
    "    \"collections_12_mths_ex_med\", \"policy_code\", \"application_type\", \"acc_now_delinq\",\n",
    "    \"tot_coll_amt\", \"tot_cur_bal\", \"open_acc_6m\", \"open_act_il\",\n",
    "    \"open_il_12m\", \"open_il_24m\", \"mths_since_rcnt_il\", \"total_bal_il\",\n",
    "    \"il_util\", \"open_rv_12m\", \"open_rv_24m\", \"max_bal_bc\",\n",
    "    \"all_util\", \"total_rev_hi_lim\", \"inq_fi\", \"total_cu_tl\",\n",
    "    \"inq_last_12m\", \"acc_open_past_24mths\", \"avg_cur_bal\", \"bc_open_to_buy\",\n",
    "    \"bc_util\", \"chargeoff_within_12_mths\", \"delinq_amnt\", \"mo_sin_old_il_acct\",\n",
    "    \"mo_sin_old_rev_tl_op\", \"mo_sin_rcnt_rev_tl_op\", \"mo_sin_rcnt_tl\", \"mort_acc\",\n",
    "    \"mths_since_recent_bc\", \"mths_since_recent_inq\", \"num_accts_ever_120_pd\", \"num_actv_bc_tl\",\n",
    "    \"num_actv_rev_tl\", \"num_bc_sats\", \"num_bc_tl\", \"num_il_tl\",\n",
    "    \"num_op_rev_tl\", \"num_rev_accts\", \"num_rev_tl_bal_gt_0\",\n",
    "    \"num_sats\", \"num_tl_120dpd_2m\", \"num_tl_30dpd\", \"num_tl_90g_dpd_24m\",\n",
    "    \"num_tl_op_past_12m\", \"pct_tl_nvr_dlq\", \"percent_bc_gt_75\", \"pub_rec_bankruptcies\",\n",
    "    \"tax_liens\", \"tot_hi_cred_lim\", \"total_bal_ex_mort\", \"total_bc_limit\",\n",
    "    \"total_il_high_credit_limit\", \"hardship_flag\", \"debt_settlement_flag\"\n",
    "]\n",
    "\n",
    "target = [\"loan_status\"]"
   ]
  },
  {
   "cell_type": "code",
   "execution_count": 6,
   "metadata": {},
   "outputs": [
    {
     "output_type": "execute_result",
     "data": {
      "text/plain": "   loan_amnt  int_rate  installment home_ownership  annual_inc  \\\n0    10500.0    0.1719       375.35           RENT     66000.0   \n1    25000.0    0.2000       929.09       MORTGAGE    105000.0   \n2    20000.0    0.2000       529.88       MORTGAGE     56000.0   \n3    10000.0    0.1640       353.55           RENT     92000.0   \n4    22000.0    0.1474       520.39       MORTGAGE     52000.0   \n\n  verification_status   issue_d loan_status pymnt_plan    dti  ...  \\\n0     Source Verified  Mar-2019    low_risk          n  27.24  ...   \n1            Verified  Mar-2019    low_risk          n  20.23  ...   \n2            Verified  Mar-2019    low_risk          n  24.26  ...   \n3            Verified  Mar-2019    low_risk          n  31.44  ...   \n4        Not Verified  Mar-2019    low_risk          n  18.76  ...   \n\n   pct_tl_nvr_dlq  percent_bc_gt_75  pub_rec_bankruptcies  tax_liens  \\\n0            85.7             100.0                   0.0        0.0   \n1            91.2              50.0                   1.0        0.0   \n2            66.7              50.0                   0.0        0.0   \n3           100.0              50.0                   1.0        0.0   \n4           100.0               0.0                   0.0        0.0   \n\n   tot_hi_cred_lim  total_bal_ex_mort total_bc_limit  \\\n0          65687.0            38199.0         2000.0   \n1         271427.0            60641.0        41200.0   \n2          60644.0            45684.0         7500.0   \n3          99506.0            68784.0        19700.0   \n4         219750.0            25919.0        27600.0   \n\n   total_il_high_credit_limit  hardship_flag  debt_settlement_flag  \n0                     61987.0              N                     N  \n1                     49197.0              N                     N  \n2                     43144.0              N                     N  \n3                     76506.0              N                     N  \n4                     20000.0              N                     N  \n\n[5 rows x 86 columns]",
      "text/html": "<div>\n<style scoped>\n    .dataframe tbody tr th:only-of-type {\n        vertical-align: middle;\n    }\n\n    .dataframe tbody tr th {\n        vertical-align: top;\n    }\n\n    .dataframe thead th {\n        text-align: right;\n    }\n</style>\n<table border=\"1\" class=\"dataframe\">\n  <thead>\n    <tr style=\"text-align: right;\">\n      <th></th>\n      <th>loan_amnt</th>\n      <th>int_rate</th>\n      <th>installment</th>\n      <th>home_ownership</th>\n      <th>annual_inc</th>\n      <th>verification_status</th>\n      <th>issue_d</th>\n      <th>loan_status</th>\n      <th>pymnt_plan</th>\n      <th>dti</th>\n      <th>...</th>\n      <th>pct_tl_nvr_dlq</th>\n      <th>percent_bc_gt_75</th>\n      <th>pub_rec_bankruptcies</th>\n      <th>tax_liens</th>\n      <th>tot_hi_cred_lim</th>\n      <th>total_bal_ex_mort</th>\n      <th>total_bc_limit</th>\n      <th>total_il_high_credit_limit</th>\n      <th>hardship_flag</th>\n      <th>debt_settlement_flag</th>\n    </tr>\n  </thead>\n  <tbody>\n    <tr>\n      <th>0</th>\n      <td>10500.0</td>\n      <td>0.1719</td>\n      <td>375.35</td>\n      <td>RENT</td>\n      <td>66000.0</td>\n      <td>Source Verified</td>\n      <td>Mar-2019</td>\n      <td>low_risk</td>\n      <td>n</td>\n      <td>27.24</td>\n      <td>...</td>\n      <td>85.7</td>\n      <td>100.0</td>\n      <td>0.0</td>\n      <td>0.0</td>\n      <td>65687.0</td>\n      <td>38199.0</td>\n      <td>2000.0</td>\n      <td>61987.0</td>\n      <td>N</td>\n      <td>N</td>\n    </tr>\n    <tr>\n      <th>1</th>\n      <td>25000.0</td>\n      <td>0.2000</td>\n      <td>929.09</td>\n      <td>MORTGAGE</td>\n      <td>105000.0</td>\n      <td>Verified</td>\n      <td>Mar-2019</td>\n      <td>low_risk</td>\n      <td>n</td>\n      <td>20.23</td>\n      <td>...</td>\n      <td>91.2</td>\n      <td>50.0</td>\n      <td>1.0</td>\n      <td>0.0</td>\n      <td>271427.0</td>\n      <td>60641.0</td>\n      <td>41200.0</td>\n      <td>49197.0</td>\n      <td>N</td>\n      <td>N</td>\n    </tr>\n    <tr>\n      <th>2</th>\n      <td>20000.0</td>\n      <td>0.2000</td>\n      <td>529.88</td>\n      <td>MORTGAGE</td>\n      <td>56000.0</td>\n      <td>Verified</td>\n      <td>Mar-2019</td>\n      <td>low_risk</td>\n      <td>n</td>\n      <td>24.26</td>\n      <td>...</td>\n      <td>66.7</td>\n      <td>50.0</td>\n      <td>0.0</td>\n      <td>0.0</td>\n      <td>60644.0</td>\n      <td>45684.0</td>\n      <td>7500.0</td>\n      <td>43144.0</td>\n      <td>N</td>\n      <td>N</td>\n    </tr>\n    <tr>\n      <th>3</th>\n      <td>10000.0</td>\n      <td>0.1640</td>\n      <td>353.55</td>\n      <td>RENT</td>\n      <td>92000.0</td>\n      <td>Verified</td>\n      <td>Mar-2019</td>\n      <td>low_risk</td>\n      <td>n</td>\n      <td>31.44</td>\n      <td>...</td>\n      <td>100.0</td>\n      <td>50.0</td>\n      <td>1.0</td>\n      <td>0.0</td>\n      <td>99506.0</td>\n      <td>68784.0</td>\n      <td>19700.0</td>\n      <td>76506.0</td>\n      <td>N</td>\n      <td>N</td>\n    </tr>\n    <tr>\n      <th>4</th>\n      <td>22000.0</td>\n      <td>0.1474</td>\n      <td>520.39</td>\n      <td>MORTGAGE</td>\n      <td>52000.0</td>\n      <td>Not Verified</td>\n      <td>Mar-2019</td>\n      <td>low_risk</td>\n      <td>n</td>\n      <td>18.76</td>\n      <td>...</td>\n      <td>100.0</td>\n      <td>0.0</td>\n      <td>0.0</td>\n      <td>0.0</td>\n      <td>219750.0</td>\n      <td>25919.0</td>\n      <td>27600.0</td>\n      <td>20000.0</td>\n      <td>N</td>\n      <td>N</td>\n    </tr>\n  </tbody>\n</table>\n<p>5 rows × 86 columns</p>\n</div>"
     },
     "metadata": {},
     "execution_count": 6
    }
   ],
   "source": [
    "# Load the data\n",
    "file_path = 'LoanStats_2019Q1.csv'\n",
    "df = pd.read_csv(file_path, skiprows=1)[:-2]\n",
    "df = df.loc[:, columns].copy()\n",
    "\n",
    "# Drop the null columns where all values are null\n",
    "df = df.dropna(axis='columns', how='all')\n",
    "\n",
    "# Drop the null rows\n",
    "df = df.dropna()\n",
    "\n",
    "# Remove the `Issued` loan status\n",
    "issued_mask = df['loan_status'] != 'Issued'\n",
    "df = df.loc[issued_mask]\n",
    "\n",
    "# convert interest rate to numerical\n",
    "df['int_rate'] = df['int_rate'].str.replace('%', '')\n",
    "df['int_rate'] = df['int_rate'].astype('float') / 100\n",
    "\n",
    "\n",
    "# Convert the target column values to low_risk and high_risk based on their values\n",
    "x = {'Current': 'low_risk'}   \n",
    "df = df.replace(x)\n",
    "\n",
    "x = dict.fromkeys(['Late (31-120 days)', 'Late (16-30 days)', 'Default', 'In Grace Period'], 'high_risk')    \n",
    "df = df.replace(x)\n",
    "\n",
    "df.reset_index(inplace=True, drop=True)\n",
    "\n",
    "df.head()"
   ]
  },
  {
   "cell_type": "markdown",
   "metadata": {},
   "source": [
    "# Split the Data into Training and Testing"
   ]
  },
  {
   "cell_type": "code",
   "execution_count": 7,
   "metadata": {},
   "outputs": [],
   "source": [
    "# Create our features\n",
    "XString = df.drop(columns=target)\n",
    "\n",
    "# Create our target\n",
    "yString = df[target]"
   ]
  },
  {
   "cell_type": "code",
   "execution_count": 8,
   "metadata": {},
   "outputs": [
    {
     "output_type": "execute_result",
     "data": {
      "text/plain": "   loan_amnt  int_rate  installment  home_ownership  annual_inc  \\\n0    10500.0    0.1719       375.35               3     66000.0   \n1    25000.0    0.2000       929.09               1    105000.0   \n2    20000.0    0.2000       529.88               1     56000.0   \n3    10000.0    0.1640       353.55               3     92000.0   \n4    22000.0    0.1474       520.39               1     52000.0   \n\n   verification_status   issue_d  pymnt_plan    dti  delinq_2yrs  ...  \\\n0                    1  Mar-2019           0  27.24          0.0  ...   \n1                    2  Mar-2019           0  20.23          0.0  ...   \n2                    2  Mar-2019           0  24.26          0.0  ...   \n3                    2  Mar-2019           0  31.44          0.0  ...   \n4                    0  Mar-2019           0  18.76          0.0  ...   \n\n   pct_tl_nvr_dlq  percent_bc_gt_75  pub_rec_bankruptcies  tax_liens  \\\n0            85.7             100.0                   0.0        0.0   \n1            91.2              50.0                   1.0        0.0   \n2            66.7              50.0                   0.0        0.0   \n3           100.0              50.0                   1.0        0.0   \n4           100.0               0.0                   0.0        0.0   \n\n   tot_hi_cred_lim  total_bal_ex_mort  total_bc_limit  \\\n0          65687.0            38199.0          2000.0   \n1         271427.0            60641.0         41200.0   \n2          60644.0            45684.0          7500.0   \n3          99506.0            68784.0         19700.0   \n4         219750.0            25919.0         27600.0   \n\n   total_il_high_credit_limit  hardship_flag  debt_settlement_flag  \n0                     61987.0              0                     0  \n1                     49197.0              0                     0  \n2                     43144.0              0                     0  \n3                     76506.0              0                     0  \n4                     20000.0              0                     0  \n\n[5 rows x 84 columns]",
      "text/html": "<div>\n<style scoped>\n    .dataframe tbody tr th:only-of-type {\n        vertical-align: middle;\n    }\n\n    .dataframe tbody tr th {\n        vertical-align: top;\n    }\n\n    .dataframe thead th {\n        text-align: right;\n    }\n</style>\n<table border=\"1\" class=\"dataframe\">\n  <thead>\n    <tr style=\"text-align: right;\">\n      <th></th>\n      <th>loan_amnt</th>\n      <th>int_rate</th>\n      <th>installment</th>\n      <th>home_ownership</th>\n      <th>annual_inc</th>\n      <th>verification_status</th>\n      <th>issue_d</th>\n      <th>pymnt_plan</th>\n      <th>dti</th>\n      <th>delinq_2yrs</th>\n      <th>...</th>\n      <th>pct_tl_nvr_dlq</th>\n      <th>percent_bc_gt_75</th>\n      <th>pub_rec_bankruptcies</th>\n      <th>tax_liens</th>\n      <th>tot_hi_cred_lim</th>\n      <th>total_bal_ex_mort</th>\n      <th>total_bc_limit</th>\n      <th>total_il_high_credit_limit</th>\n      <th>hardship_flag</th>\n      <th>debt_settlement_flag</th>\n    </tr>\n  </thead>\n  <tbody>\n    <tr>\n      <th>0</th>\n      <td>10500.0</td>\n      <td>0.1719</td>\n      <td>375.35</td>\n      <td>3</td>\n      <td>66000.0</td>\n      <td>1</td>\n      <td>Mar-2019</td>\n      <td>0</td>\n      <td>27.24</td>\n      <td>0.0</td>\n      <td>...</td>\n      <td>85.7</td>\n      <td>100.0</td>\n      <td>0.0</td>\n      <td>0.0</td>\n      <td>65687.0</td>\n      <td>38199.0</td>\n      <td>2000.0</td>\n      <td>61987.0</td>\n      <td>0</td>\n      <td>0</td>\n    </tr>\n    <tr>\n      <th>1</th>\n      <td>25000.0</td>\n      <td>0.2000</td>\n      <td>929.09</td>\n      <td>1</td>\n      <td>105000.0</td>\n      <td>2</td>\n      <td>Mar-2019</td>\n      <td>0</td>\n      <td>20.23</td>\n      <td>0.0</td>\n      <td>...</td>\n      <td>91.2</td>\n      <td>50.0</td>\n      <td>1.0</td>\n      <td>0.0</td>\n      <td>271427.0</td>\n      <td>60641.0</td>\n      <td>41200.0</td>\n      <td>49197.0</td>\n      <td>0</td>\n      <td>0</td>\n    </tr>\n    <tr>\n      <th>2</th>\n      <td>20000.0</td>\n      <td>0.2000</td>\n      <td>529.88</td>\n      <td>1</td>\n      <td>56000.0</td>\n      <td>2</td>\n      <td>Mar-2019</td>\n      <td>0</td>\n      <td>24.26</td>\n      <td>0.0</td>\n      <td>...</td>\n      <td>66.7</td>\n      <td>50.0</td>\n      <td>0.0</td>\n      <td>0.0</td>\n      <td>60644.0</td>\n      <td>45684.0</td>\n      <td>7500.0</td>\n      <td>43144.0</td>\n      <td>0</td>\n      <td>0</td>\n    </tr>\n    <tr>\n      <th>3</th>\n      <td>10000.0</td>\n      <td>0.1640</td>\n      <td>353.55</td>\n      <td>3</td>\n      <td>92000.0</td>\n      <td>2</td>\n      <td>Mar-2019</td>\n      <td>0</td>\n      <td>31.44</td>\n      <td>0.0</td>\n      <td>...</td>\n      <td>100.0</td>\n      <td>50.0</td>\n      <td>1.0</td>\n      <td>0.0</td>\n      <td>99506.0</td>\n      <td>68784.0</td>\n      <td>19700.0</td>\n      <td>76506.0</td>\n      <td>0</td>\n      <td>0</td>\n    </tr>\n    <tr>\n      <th>4</th>\n      <td>22000.0</td>\n      <td>0.1474</td>\n      <td>520.39</td>\n      <td>1</td>\n      <td>52000.0</td>\n      <td>0</td>\n      <td>Mar-2019</td>\n      <td>0</td>\n      <td>18.76</td>\n      <td>0.0</td>\n      <td>...</td>\n      <td>100.0</td>\n      <td>0.0</td>\n      <td>0.0</td>\n      <td>0.0</td>\n      <td>219750.0</td>\n      <td>25919.0</td>\n      <td>27600.0</td>\n      <td>20000.0</td>\n      <td>0</td>\n      <td>0</td>\n    </tr>\n  </tbody>\n</table>\n<p>5 rows × 84 columns</p>\n</div>"
     },
     "metadata": {},
     "execution_count": 8
    }
   ],
   "source": [
    "# Remove convert strings to numerical\n",
    "from sklearn.preprocessing import LabelEncoder\n",
    "le = LabelEncoder()\n",
    "X = XString.copy()\n",
    "X['verification_status'] = le.fit_transform(X['verification_status'])\n",
    "X['pymnt_plan'] = le.fit_transform(X['pymnt_plan'])\n",
    "X['home_ownership'] = le.fit_transform(X['home_ownership'])\n",
    "X['hardship_flag'] = le.fit_transform(X['hardship_flag'])\n",
    "X['debt_settlement_flag'] = le.fit_transform(X['debt_settlement_flag'])\n",
    "X['initial_list_status'] = le.fit_transform(X['initial_list_status'])\n",
    "X['application_type'] = le.fit_transform(X['application_type'])\n",
    "X = X.drop(columns=\"next_pymnt_d\")\n",
    "X.head()"
   ]
  },
  {
   "cell_type": "code",
   "execution_count": 9,
   "metadata": {},
   "outputs": [],
   "source": [
    "# Months dictionary\n",
    "months_num = {\n",
    "    \"Jan-2019\": 1,\n",
    "    \"Feb-2019\": 2,\n",
    "    \"Mar-2019\": 3,\n",
    "    \"Apr-2019\": 4,\n",
    "    \"May-2019\": 5,\n",
    "    \"Jun-2019\": 6,\n",
    "    \"Jul-2019\": 7,\n",
    "    \"Aug-2019\": 8,\n",
    "    \"Sep-2019\": 9,\n",
    "    \"Oct-2019\": 10,\n",
    "    \"Nov-2019\": 11,\n",
    "    \"Dec-2019\": 12,\n",
    "}"
   ]
  },
  {
   "cell_type": "code",
   "execution_count": 12,
   "metadata": {},
   "outputs": [],
   "source": [
    "# Save un-normalized version of X for SMOTEENN\n",
    "XCombo = X\n",
    "# y.dtypes\n",
    "# X.dtypes"
   ]
  },
  {
   "cell_type": "code",
   "execution_count": 10,
   "metadata": {},
   "outputs": [
    {
     "output_type": "execute_result",
     "data": {
      "text/plain": "   loan_amnt  int_rate  installment  home_ownership  annual_inc  \\\n0    10500.0    0.1719       375.35               3     66000.0   \n1    25000.0    0.2000       929.09               1    105000.0   \n2    20000.0    0.2000       529.88               1     56000.0   \n3    10000.0    0.1640       353.55               3     92000.0   \n4    22000.0    0.1474       520.39               1     52000.0   \n\n   verification_status  pymnt_plan    dti  delinq_2yrs  inq_last_6mths  ...  \\\n0                    1           0  27.24          0.0             0.0  ...   \n1                    2           0  20.23          0.0             0.0  ...   \n2                    2           0  24.26          0.0             0.0  ...   \n3                    2           0  31.44          0.0             1.0  ...   \n4                    0           0  18.76          0.0             1.0  ...   \n\n   percent_bc_gt_75  pub_rec_bankruptcies  tax_liens  tot_hi_cred_lim  \\\n0             100.0                   0.0        0.0          65687.0   \n1              50.0                   1.0        0.0         271427.0   \n2              50.0                   0.0        0.0          60644.0   \n3              50.0                   1.0        0.0          99506.0   \n4               0.0                   0.0        0.0         219750.0   \n\n   total_bal_ex_mort  total_bc_limit  total_il_high_credit_limit  \\\n0            38199.0          2000.0                     61987.0   \n1            60641.0         41200.0                     49197.0   \n2            45684.0          7500.0                     43144.0   \n3            68784.0         19700.0                     76506.0   \n4            25919.0         27600.0                     20000.0   \n\n   hardship_flag  debt_settlement_flag  month_num  \n0              0                     0          3  \n1              0                     0          3  \n2              0                     0          3  \n3              0                     0          3  \n4              0                     0          3  \n\n[5 rows x 84 columns]",
      "text/html": "<div>\n<style scoped>\n    .dataframe tbody tr th:only-of-type {\n        vertical-align: middle;\n    }\n\n    .dataframe tbody tr th {\n        vertical-align: top;\n    }\n\n    .dataframe thead th {\n        text-align: right;\n    }\n</style>\n<table border=\"1\" class=\"dataframe\">\n  <thead>\n    <tr style=\"text-align: right;\">\n      <th></th>\n      <th>loan_amnt</th>\n      <th>int_rate</th>\n      <th>installment</th>\n      <th>home_ownership</th>\n      <th>annual_inc</th>\n      <th>verification_status</th>\n      <th>pymnt_plan</th>\n      <th>dti</th>\n      <th>delinq_2yrs</th>\n      <th>inq_last_6mths</th>\n      <th>...</th>\n      <th>percent_bc_gt_75</th>\n      <th>pub_rec_bankruptcies</th>\n      <th>tax_liens</th>\n      <th>tot_hi_cred_lim</th>\n      <th>total_bal_ex_mort</th>\n      <th>total_bc_limit</th>\n      <th>total_il_high_credit_limit</th>\n      <th>hardship_flag</th>\n      <th>debt_settlement_flag</th>\n      <th>month_num</th>\n    </tr>\n  </thead>\n  <tbody>\n    <tr>\n      <th>0</th>\n      <td>10500.0</td>\n      <td>0.1719</td>\n      <td>375.35</td>\n      <td>3</td>\n      <td>66000.0</td>\n      <td>1</td>\n      <td>0</td>\n      <td>27.24</td>\n      <td>0.0</td>\n      <td>0.0</td>\n      <td>...</td>\n      <td>100.0</td>\n      <td>0.0</td>\n      <td>0.0</td>\n      <td>65687.0</td>\n      <td>38199.0</td>\n      <td>2000.0</td>\n      <td>61987.0</td>\n      <td>0</td>\n      <td>0</td>\n      <td>3</td>\n    </tr>\n    <tr>\n      <th>1</th>\n      <td>25000.0</td>\n      <td>0.2000</td>\n      <td>929.09</td>\n      <td>1</td>\n      <td>105000.0</td>\n      <td>2</td>\n      <td>0</td>\n      <td>20.23</td>\n      <td>0.0</td>\n      <td>0.0</td>\n      <td>...</td>\n      <td>50.0</td>\n      <td>1.0</td>\n      <td>0.0</td>\n      <td>271427.0</td>\n      <td>60641.0</td>\n      <td>41200.0</td>\n      <td>49197.0</td>\n      <td>0</td>\n      <td>0</td>\n      <td>3</td>\n    </tr>\n    <tr>\n      <th>2</th>\n      <td>20000.0</td>\n      <td>0.2000</td>\n      <td>529.88</td>\n      <td>1</td>\n      <td>56000.0</td>\n      <td>2</td>\n      <td>0</td>\n      <td>24.26</td>\n      <td>0.0</td>\n      <td>0.0</td>\n      <td>...</td>\n      <td>50.0</td>\n      <td>0.0</td>\n      <td>0.0</td>\n      <td>60644.0</td>\n      <td>45684.0</td>\n      <td>7500.0</td>\n      <td>43144.0</td>\n      <td>0</td>\n      <td>0</td>\n      <td>3</td>\n    </tr>\n    <tr>\n      <th>3</th>\n      <td>10000.0</td>\n      <td>0.1640</td>\n      <td>353.55</td>\n      <td>3</td>\n      <td>92000.0</td>\n      <td>2</td>\n      <td>0</td>\n      <td>31.44</td>\n      <td>0.0</td>\n      <td>1.0</td>\n      <td>...</td>\n      <td>50.0</td>\n      <td>1.0</td>\n      <td>0.0</td>\n      <td>99506.0</td>\n      <td>68784.0</td>\n      <td>19700.0</td>\n      <td>76506.0</td>\n      <td>0</td>\n      <td>0</td>\n      <td>3</td>\n    </tr>\n    <tr>\n      <th>4</th>\n      <td>22000.0</td>\n      <td>0.1474</td>\n      <td>520.39</td>\n      <td>1</td>\n      <td>52000.0</td>\n      <td>0</td>\n      <td>0</td>\n      <td>18.76</td>\n      <td>0.0</td>\n      <td>1.0</td>\n      <td>...</td>\n      <td>0.0</td>\n      <td>0.0</td>\n      <td>0.0</td>\n      <td>219750.0</td>\n      <td>25919.0</td>\n      <td>27600.0</td>\n      <td>20000.0</td>\n      <td>0</td>\n      <td>0</td>\n      <td>3</td>\n    </tr>\n  </tbody>\n</table>\n<p>5 rows × 84 columns</p>\n</div>"
     },
     "metadata": {},
     "execution_count": 10
    }
   ],
   "source": [
    "# Months' names encoded using the dictionary values\n",
    "X[\"month_num\"] = X[\"issue_d\"].apply(lambda x: months_num[x])\n",
    "X = X.drop(columns='issue_d')\n",
    "X.head()"
   ]
  },
  {
   "cell_type": "code",
   "execution_count": 13,
   "metadata": {},
   "outputs": [
    {
     "output_type": "execute_result",
     "data": {
      "text/plain": "         0         1         2         3         4         5    6         7   \\\n0 -0.601093  0.917984 -0.365558  1.261248 -0.192195  0.458915  0.0  0.270401   \n1  0.809787  1.501829  1.556747 -0.863458  0.145236  1.849543  0.0 -0.076645   \n2  0.323277  1.501829  0.170892 -0.863458 -0.278716  1.849543  0.0  0.122869   \n3 -0.649744  0.753843 -0.441237  1.261248  0.032759  1.849543  0.0  0.478331   \n4  0.517881  0.408938  0.137947 -0.863458 -0.313324 -0.931713  0.0 -0.149420   \n\n         8         9   ...        74        75   76        77        78  \\\n0 -0.303143 -0.656492  ...  2.062779 -0.374103  0.0 -0.748655 -0.403213   \n1 -0.303143 -0.656492  ...  0.576065  2.595637  0.0  0.318420 -0.012153   \n2 -0.303143 -0.656492  ...  0.576065 -0.374103  0.0 -0.774811 -0.272784   \n3 -0.303143  0.662568  ...  0.576065  2.595637  0.0 -0.573252  0.129742   \n4 -0.303143  0.662568  ... -0.910648 -0.374103  0.0  0.050396 -0.617197   \n\n         79        80   81   82        83  \n0 -1.035041  0.122936  0.0  0.0  1.712464  \n1  0.427908 -0.128054  0.0  0.0  1.712464  \n2 -0.829780 -0.246838  0.0  0.0  1.712464  \n3 -0.374475  0.407857  0.0  0.0  1.712464  \n4 -0.079646 -0.701016  0.0  0.0  1.712464  \n\n[5 rows x 84 columns]",
      "text/html": "<div>\n<style scoped>\n    .dataframe tbody tr th:only-of-type {\n        vertical-align: middle;\n    }\n\n    .dataframe tbody tr th {\n        vertical-align: top;\n    }\n\n    .dataframe thead th {\n        text-align: right;\n    }\n</style>\n<table border=\"1\" class=\"dataframe\">\n  <thead>\n    <tr style=\"text-align: right;\">\n      <th></th>\n      <th>0</th>\n      <th>1</th>\n      <th>2</th>\n      <th>3</th>\n      <th>4</th>\n      <th>5</th>\n      <th>6</th>\n      <th>7</th>\n      <th>8</th>\n      <th>9</th>\n      <th>...</th>\n      <th>74</th>\n      <th>75</th>\n      <th>76</th>\n      <th>77</th>\n      <th>78</th>\n      <th>79</th>\n      <th>80</th>\n      <th>81</th>\n      <th>82</th>\n      <th>83</th>\n    </tr>\n  </thead>\n  <tbody>\n    <tr>\n      <th>0</th>\n      <td>-0.601093</td>\n      <td>0.917984</td>\n      <td>-0.365558</td>\n      <td>1.261248</td>\n      <td>-0.192195</td>\n      <td>0.458915</td>\n      <td>0.0</td>\n      <td>0.270401</td>\n      <td>-0.303143</td>\n      <td>-0.656492</td>\n      <td>...</td>\n      <td>2.062779</td>\n      <td>-0.374103</td>\n      <td>0.0</td>\n      <td>-0.748655</td>\n      <td>-0.403213</td>\n      <td>-1.035041</td>\n      <td>0.122936</td>\n      <td>0.0</td>\n      <td>0.0</td>\n      <td>1.712464</td>\n    </tr>\n    <tr>\n      <th>1</th>\n      <td>0.809787</td>\n      <td>1.501829</td>\n      <td>1.556747</td>\n      <td>-0.863458</td>\n      <td>0.145236</td>\n      <td>1.849543</td>\n      <td>0.0</td>\n      <td>-0.076645</td>\n      <td>-0.303143</td>\n      <td>-0.656492</td>\n      <td>...</td>\n      <td>0.576065</td>\n      <td>2.595637</td>\n      <td>0.0</td>\n      <td>0.318420</td>\n      <td>-0.012153</td>\n      <td>0.427908</td>\n      <td>-0.128054</td>\n      <td>0.0</td>\n      <td>0.0</td>\n      <td>1.712464</td>\n    </tr>\n    <tr>\n      <th>2</th>\n      <td>0.323277</td>\n      <td>1.501829</td>\n      <td>0.170892</td>\n      <td>-0.863458</td>\n      <td>-0.278716</td>\n      <td>1.849543</td>\n      <td>0.0</td>\n      <td>0.122869</td>\n      <td>-0.303143</td>\n      <td>-0.656492</td>\n      <td>...</td>\n      <td>0.576065</td>\n      <td>-0.374103</td>\n      <td>0.0</td>\n      <td>-0.774811</td>\n      <td>-0.272784</td>\n      <td>-0.829780</td>\n      <td>-0.246838</td>\n      <td>0.0</td>\n      <td>0.0</td>\n      <td>1.712464</td>\n    </tr>\n    <tr>\n      <th>3</th>\n      <td>-0.649744</td>\n      <td>0.753843</td>\n      <td>-0.441237</td>\n      <td>1.261248</td>\n      <td>0.032759</td>\n      <td>1.849543</td>\n      <td>0.0</td>\n      <td>0.478331</td>\n      <td>-0.303143</td>\n      <td>0.662568</td>\n      <td>...</td>\n      <td>0.576065</td>\n      <td>2.595637</td>\n      <td>0.0</td>\n      <td>-0.573252</td>\n      <td>0.129742</td>\n      <td>-0.374475</td>\n      <td>0.407857</td>\n      <td>0.0</td>\n      <td>0.0</td>\n      <td>1.712464</td>\n    </tr>\n    <tr>\n      <th>4</th>\n      <td>0.517881</td>\n      <td>0.408938</td>\n      <td>0.137947</td>\n      <td>-0.863458</td>\n      <td>-0.313324</td>\n      <td>-0.931713</td>\n      <td>0.0</td>\n      <td>-0.149420</td>\n      <td>-0.303143</td>\n      <td>0.662568</td>\n      <td>...</td>\n      <td>-0.910648</td>\n      <td>-0.374103</td>\n      <td>0.0</td>\n      <td>0.050396</td>\n      <td>-0.617197</td>\n      <td>-0.079646</td>\n      <td>-0.701016</td>\n      <td>0.0</td>\n      <td>0.0</td>\n      <td>1.712464</td>\n    </tr>\n  </tbody>\n</table>\n<p>5 rows × 84 columns</p>\n</div>"
     },
     "metadata": {},
     "execution_count": 13
    }
   ],
   "source": [
    "# Normalize X df\n",
    "from sklearn.preprocessing import StandardScaler\n",
    "data_scaler = StandardScaler()\n",
    "\n",
    "X = data_scaler.fit_transform(X)\n",
    "X = pd.DataFrame(X)\n",
    "X.head()"
   ]
  },
  {
   "cell_type": "code",
   "execution_count": 15,
   "metadata": {},
   "outputs": [
    {
     "output_type": "execute_result",
     "data": {
      "text/plain": "                 0             1             2             3             4   \\\ncount  6.881700e+04  6.881700e+04  6.881700e+04  6.881700e+04  6.881700e+04   \nmean  -7.361679e-18 -1.199557e-15  6.590079e-17 -7.332018e-16  6.016378e-16   \nstd    1.000007e+00  1.000007e+00  1.000007e+00  1.000007e+00  1.000007e+00   \nmin   -1.525462e+00 -1.407007e+00 -1.561349e+00 -1.925812e+00 -7.628861e-01   \n25%   -7.470458e-01 -8.231618e-01 -7.461036e-01 -8.634582e-01 -3.306281e-01   \n50%   -1.632334e-01 -2.019175e-01 -2.641560e-01 -8.634582e-01 -1.316302e-01   \n75%    7.124852e-01  5.813905e-01  5.812919e-01  1.261248e+00  1.365843e-01   \nmax    2.269318e+00  3.754100e+00  4.150440e+00  1.261248e+00  7.535346e+01   \n\n                 5        6             7             8             9   ...  \\\ncount  6.881700e+04  68817.0  6.881700e+04  6.881700e+04  6.881700e+04  ...   \nmean  -6.996491e-15      0.0 -9.826434e-17 -2.177913e-15 -1.431710e-15  ...   \nstd    1.000007e+00      0.0  1.000007e+00  1.000007e+00  1.000007e+00  ...   \nmin   -9.317127e-01      0.0 -1.078175e+00 -3.031425e-01 -6.564915e-01  ...   \n25%   -9.317127e-01      0.0 -3.905201e-01 -3.031425e-01 -6.564915e-01  ...   \n50%    4.589150e-01      0.0 -9.991302e-02 -3.031425e-01 -6.564915e-01  ...   \n75%    4.589150e-01      0.0  2.416864e-01 -3.031425e-01  6.625677e-01  ...   \nmax    1.849543e+00      0.0  4.837948e+01  2.475388e+01  5.938804e+00  ...   \n\n                 74            75       76            77            78  \\\ncount  6.881700e+04  6.881700e+04  68817.0  6.881700e+04  6.881700e+04   \nmean   4.623001e-16  3.377942e-15      0.0 -1.104218e-16 -2.881793e-17   \nstd    1.000007e+00  1.000007e+00      0.0  1.000007e+00  1.000007e+00   \nmin   -9.106485e-01 -3.741034e-01      0.0 -1.070671e+00 -1.064750e+00   \n25%   -9.106485e-01 -3.741034e-01      0.0 -7.419643e-01 -6.070206e-01   \n50%   -3.159629e-01 -3.741034e-01      0.0 -3.284273e-01 -2.784825e-01   \n75%    5.760654e-01 -3.741034e-01      0.0  4.854937e-01  2.654159e-01   \nmax    2.062779e+00  1.150486e+01      0.0  1.598875e+01  2.150495e+01   \n\n                 79            80       81       82            83  \ncount  6.881700e+04  6.881700e+04  68817.0  68817.0  6.881700e+04  \nmean   2.136167e-17 -1.063458e-16      0.0      0.0 -3.517380e-13  \nstd    1.000007e+00  1.000007e+00      0.0      0.0  1.000007e+00  \nmin   -1.105949e+00 -1.091003e+00      0.0      0.0 -9.762264e-01  \n25%   -6.767678e-01 -6.444985e-01      0.0      0.0 -9.762264e-01  \n50%   -2.849066e-01 -2.692881e-01      0.0      0.0  3.681190e-01  \n75%    3.569994e-01  3.292235e-01      0.0      0.0  3.681190e-01  \nmax    1.790119e+01  2.690921e+01      0.0      0.0  1.712464e+00  \n\n[8 rows x 84 columns]",
      "text/html": "<div>\n<style scoped>\n    .dataframe tbody tr th:only-of-type {\n        vertical-align: middle;\n    }\n\n    .dataframe tbody tr th {\n        vertical-align: top;\n    }\n\n    .dataframe thead th {\n        text-align: right;\n    }\n</style>\n<table border=\"1\" class=\"dataframe\">\n  <thead>\n    <tr style=\"text-align: right;\">\n      <th></th>\n      <th>0</th>\n      <th>1</th>\n      <th>2</th>\n      <th>3</th>\n      <th>4</th>\n      <th>5</th>\n      <th>6</th>\n      <th>7</th>\n      <th>8</th>\n      <th>9</th>\n      <th>...</th>\n      <th>74</th>\n      <th>75</th>\n      <th>76</th>\n      <th>77</th>\n      <th>78</th>\n      <th>79</th>\n      <th>80</th>\n      <th>81</th>\n      <th>82</th>\n      <th>83</th>\n    </tr>\n  </thead>\n  <tbody>\n    <tr>\n      <th>count</th>\n      <td>6.881700e+04</td>\n      <td>6.881700e+04</td>\n      <td>6.881700e+04</td>\n      <td>6.881700e+04</td>\n      <td>6.881700e+04</td>\n      <td>6.881700e+04</td>\n      <td>68817.0</td>\n      <td>6.881700e+04</td>\n      <td>6.881700e+04</td>\n      <td>6.881700e+04</td>\n      <td>...</td>\n      <td>6.881700e+04</td>\n      <td>6.881700e+04</td>\n      <td>68817.0</td>\n      <td>6.881700e+04</td>\n      <td>6.881700e+04</td>\n      <td>6.881700e+04</td>\n      <td>6.881700e+04</td>\n      <td>68817.0</td>\n      <td>68817.0</td>\n      <td>6.881700e+04</td>\n    </tr>\n    <tr>\n      <th>mean</th>\n      <td>-7.361679e-18</td>\n      <td>-1.199557e-15</td>\n      <td>6.590079e-17</td>\n      <td>-7.332018e-16</td>\n      <td>6.016378e-16</td>\n      <td>-6.996491e-15</td>\n      <td>0.0</td>\n      <td>-9.826434e-17</td>\n      <td>-2.177913e-15</td>\n      <td>-1.431710e-15</td>\n      <td>...</td>\n      <td>4.623001e-16</td>\n      <td>3.377942e-15</td>\n      <td>0.0</td>\n      <td>-1.104218e-16</td>\n      <td>-2.881793e-17</td>\n      <td>2.136167e-17</td>\n      <td>-1.063458e-16</td>\n      <td>0.0</td>\n      <td>0.0</td>\n      <td>-3.517380e-13</td>\n    </tr>\n    <tr>\n      <th>std</th>\n      <td>1.000007e+00</td>\n      <td>1.000007e+00</td>\n      <td>1.000007e+00</td>\n      <td>1.000007e+00</td>\n      <td>1.000007e+00</td>\n      <td>1.000007e+00</td>\n      <td>0.0</td>\n      <td>1.000007e+00</td>\n      <td>1.000007e+00</td>\n      <td>1.000007e+00</td>\n      <td>...</td>\n      <td>1.000007e+00</td>\n      <td>1.000007e+00</td>\n      <td>0.0</td>\n      <td>1.000007e+00</td>\n      <td>1.000007e+00</td>\n      <td>1.000007e+00</td>\n      <td>1.000007e+00</td>\n      <td>0.0</td>\n      <td>0.0</td>\n      <td>1.000007e+00</td>\n    </tr>\n    <tr>\n      <th>min</th>\n      <td>-1.525462e+00</td>\n      <td>-1.407007e+00</td>\n      <td>-1.561349e+00</td>\n      <td>-1.925812e+00</td>\n      <td>-7.628861e-01</td>\n      <td>-9.317127e-01</td>\n      <td>0.0</td>\n      <td>-1.078175e+00</td>\n      <td>-3.031425e-01</td>\n      <td>-6.564915e-01</td>\n      <td>...</td>\n      <td>-9.106485e-01</td>\n      <td>-3.741034e-01</td>\n      <td>0.0</td>\n      <td>-1.070671e+00</td>\n      <td>-1.064750e+00</td>\n      <td>-1.105949e+00</td>\n      <td>-1.091003e+00</td>\n      <td>0.0</td>\n      <td>0.0</td>\n      <td>-9.762264e-01</td>\n    </tr>\n    <tr>\n      <th>25%</th>\n      <td>-7.470458e-01</td>\n      <td>-8.231618e-01</td>\n      <td>-7.461036e-01</td>\n      <td>-8.634582e-01</td>\n      <td>-3.306281e-01</td>\n      <td>-9.317127e-01</td>\n      <td>0.0</td>\n      <td>-3.905201e-01</td>\n      <td>-3.031425e-01</td>\n      <td>-6.564915e-01</td>\n      <td>...</td>\n      <td>-9.106485e-01</td>\n      <td>-3.741034e-01</td>\n      <td>0.0</td>\n      <td>-7.419643e-01</td>\n      <td>-6.070206e-01</td>\n      <td>-6.767678e-01</td>\n      <td>-6.444985e-01</td>\n      <td>0.0</td>\n      <td>0.0</td>\n      <td>-9.762264e-01</td>\n    </tr>\n    <tr>\n      <th>50%</th>\n      <td>-1.632334e-01</td>\n      <td>-2.019175e-01</td>\n      <td>-2.641560e-01</td>\n      <td>-8.634582e-01</td>\n      <td>-1.316302e-01</td>\n      <td>4.589150e-01</td>\n      <td>0.0</td>\n      <td>-9.991302e-02</td>\n      <td>-3.031425e-01</td>\n      <td>-6.564915e-01</td>\n      <td>...</td>\n      <td>-3.159629e-01</td>\n      <td>-3.741034e-01</td>\n      <td>0.0</td>\n      <td>-3.284273e-01</td>\n      <td>-2.784825e-01</td>\n      <td>-2.849066e-01</td>\n      <td>-2.692881e-01</td>\n      <td>0.0</td>\n      <td>0.0</td>\n      <td>3.681190e-01</td>\n    </tr>\n    <tr>\n      <th>75%</th>\n      <td>7.124852e-01</td>\n      <td>5.813905e-01</td>\n      <td>5.812919e-01</td>\n      <td>1.261248e+00</td>\n      <td>1.365843e-01</td>\n      <td>4.589150e-01</td>\n      <td>0.0</td>\n      <td>2.416864e-01</td>\n      <td>-3.031425e-01</td>\n      <td>6.625677e-01</td>\n      <td>...</td>\n      <td>5.760654e-01</td>\n      <td>-3.741034e-01</td>\n      <td>0.0</td>\n      <td>4.854937e-01</td>\n      <td>2.654159e-01</td>\n      <td>3.569994e-01</td>\n      <td>3.292235e-01</td>\n      <td>0.0</td>\n      <td>0.0</td>\n      <td>3.681190e-01</td>\n    </tr>\n    <tr>\n      <th>max</th>\n      <td>2.269318e+00</td>\n      <td>3.754100e+00</td>\n      <td>4.150440e+00</td>\n      <td>1.261248e+00</td>\n      <td>7.535346e+01</td>\n      <td>1.849543e+00</td>\n      <td>0.0</td>\n      <td>4.837948e+01</td>\n      <td>2.475388e+01</td>\n      <td>5.938804e+00</td>\n      <td>...</td>\n      <td>2.062779e+00</td>\n      <td>1.150486e+01</td>\n      <td>0.0</td>\n      <td>1.598875e+01</td>\n      <td>2.150495e+01</td>\n      <td>1.790119e+01</td>\n      <td>2.690921e+01</td>\n      <td>0.0</td>\n      <td>0.0</td>\n      <td>1.712464e+00</td>\n    </tr>\n  </tbody>\n</table>\n<p>8 rows × 84 columns</p>\n</div>"
     },
     "metadata": {},
     "execution_count": 15
    }
   ],
   "source": [
    "X.describe()"
   ]
  },
  {
   "cell_type": "code",
   "execution_count": 14,
   "metadata": {
    "tags": [
     "outputPrepend"
    ]
   },
   "outputs": [
    {
     "output_type": "execute_result",
     "data": {
      "text/plain": "0    low_risk\n1    low_risk\n2    low_risk\n3    low_risk\n4    low_risk\nName: loan_status, dtype: object"
     },
     "metadata": {},
     "execution_count": 14
    }
   ],
   "source": [
    "# Create Outcomes DF\n",
    "\n",
    "# le = LabelEncoder()\n",
    "# y = yString.copy()\n",
    "\n",
    "# Transform loan_status to numerical values\n",
    "# y['loan_status'] = le.fit_transform(y['loan_status'])\n",
    "# y = y.set_index('loan_status')\n",
    "# y.head()\n",
    "\n",
    "y = df[\"loan_status\"]\n",
    "y.head()"
   ]
  },
  {
   "cell_type": "code",
   "execution_count": 16,
   "metadata": {},
   "outputs": [
    {
     "output_type": "execute_result",
     "data": {
      "text/plain": "low_risk     68470\nhigh_risk      347\nName: loan_status, dtype: int64"
     },
     "metadata": {},
     "execution_count": 16
    }
   ],
   "source": [
    "# Check the balance of our target values\n",
    "y[:].value_counts()"
   ]
  },
  {
   "cell_type": "code",
   "execution_count": 17,
   "metadata": {},
   "outputs": [
    {
     "output_type": "execute_result",
     "data": {
      "text/plain": "Counter({'low_risk': 51366, 'high_risk': 246})"
     },
     "metadata": {},
     "execution_count": 17
    }
   ],
   "source": [
    "# Create X_train, X_test, y_train, y_test\n",
    "# Normal train-test split\n",
    "from sklearn.model_selection import train_test_split\n",
    "X_train, X_test, y_train, y_test = train_test_split(X, y, random_state=1)\n",
    "Counter(y_train)"
   ]
  },
  {
   "cell_type": "markdown",
   "metadata": {},
   "source": [
    "# Oversampling\n",
    "\n",
    "In this section, you will compare two oversampling algorithms to determine which algorithm results in the best performance. You will oversample the data using the naive random oversampling algorithm and the SMOTE algorithm. For each algorithm, be sure to complete the folliowing steps:\n",
    "\n",
    "1. View the count of the target classes using `Counter` from the collections library. \n",
    "3. Use the resampled data to train a logistic regression model.\n",
    "3. Calculate the balanced accuracy score from sklearn.metrics.\n",
    "4. Print the confusion matrix from sklearn.metrics.\n",
    "5. Generate a classication report using the `imbalanced_classification_report` from imbalanced-learn.\n",
    "\n",
    "Note: Use a random state of 1 for each sampling algorithm to ensure consistency between tests"
   ]
  },
  {
   "cell_type": "markdown",
   "metadata": {},
   "source": [
    "Naive Random Oversampling"
   ]
  },
  {
   "cell_type": "code",
   "execution_count": 18,
   "metadata": {},
   "outputs": [
    {
     "output_type": "execute_result",
     "data": {
      "text/plain": "Counter({'low_risk': 51366, 'high_risk': 51366})"
     },
     "metadata": {},
     "execution_count": 18
    }
   ],
   "source": [
    "# Resample the training data with the RandomOversampler\n",
    "from imblearn.over_sampling import RandomOverSampler\n",
    "ros = RandomOverSampler(random_state=1)\n",
    "X_resampled, y_resampled = ros.fit_resample(X_train, y_train)\n",
    "\n",
    "Counter(y_resampled)"
   ]
  },
  {
   "cell_type": "code",
   "execution_count": 19,
   "metadata": {},
   "outputs": [
    {
     "output_type": "execute_result",
     "data": {
      "text/plain": "array(['low_risk', 'low_risk', 'low_risk', ..., 'high_risk', 'high_risk',\n       'high_risk'], dtype=object)"
     },
     "metadata": {},
     "execution_count": 19
    }
   ],
   "source": [
    "y_resampled"
   ]
  },
  {
   "cell_type": "code",
   "execution_count": 20,
   "metadata": {},
   "outputs": [
    {
     "output_type": "execute_result",
     "data": {
      "text/plain": "LogisticRegression(C=1.0, class_weight=None, dual=False, fit_intercept=True,\n                   intercept_scaling=1, l1_ratio=None, max_iter=100,\n                   multi_class='auto', n_jobs=None, penalty='l2',\n                   random_state=1, solver='lbfgs', tol=0.0001, verbose=0,\n                   warm_start=False)"
     },
     "metadata": {},
     "execution_count": 20
    }
   ],
   "source": [
    "# Train the Logistic Regression model using the resampled data\n",
    "from sklearn.linear_model import LogisticRegression\n",
    "\n",
    "model = LogisticRegression(solver='lbfgs', random_state=1)\n",
    "model.fit(X_resampled, y_resampled)"
   ]
  },
  {
   "cell_type": "code",
   "execution_count": 21,
   "metadata": {},
   "outputs": [
    {
     "output_type": "execute_result",
     "data": {
      "text/plain": "array([[   76,    25],\n       [ 3507, 13597]], dtype=int64)"
     },
     "metadata": {},
     "execution_count": 21
    }
   ],
   "source": [
    "# Display the confusion matrix\n",
    "from sklearn.metrics import confusion_matrix\n",
    "\n",
    "y_pred = model.predict(X_test)\n",
    "confusion_matrix(y_test, y_pred)"
   ]
  },
  {
   "cell_type": "code",
   "execution_count": 22,
   "metadata": {},
   "outputs": [
    {
     "output_type": "execute_result",
     "data": {
      "text/plain": "0.7737177453713566"
     },
     "metadata": {},
     "execution_count": 22
    }
   ],
   "source": [
    "# Calculated the balanced accuracy score\n",
    "from sklearn.metrics import balanced_accuracy_score\n",
    "\n",
    "balanced_accuracy_score(y_test, y_pred)"
   ]
  },
  {
   "cell_type": "code",
   "execution_count": 23,
   "metadata": {},
   "outputs": [
    {
     "output_type": "stream",
     "name": "stdout",
     "text": "pre       rec       spe        f1       geo       iba       sup\n\n  high_risk       0.02      0.75      0.79      0.04      0.77      0.60       101\n   low_risk       1.00      0.79      0.75      0.89      0.77      0.60     17104\n\navg / total       0.99      0.79      0.75      0.88      0.77      0.60     17205\n\n"
    }
   ],
   "source": [
    "# Print the imbalanced classification report\n",
    "from imblearn.metrics import classification_report_imbalanced\n",
    "print(classification_report_imbalanced(y_test, y_pred))"
   ]
  },
  {
   "cell_type": "markdown",
   "metadata": {},
   "source": [
    "### SMOTE Oversampling"
   ]
  },
  {
   "cell_type": "code",
   "execution_count": 24,
   "metadata": {},
   "outputs": [
    {
     "output_type": "execute_result",
     "data": {
      "text/plain": "Counter({'low_risk': 51366, 'high_risk': 51366})"
     },
     "metadata": {},
     "execution_count": 24
    }
   ],
   "source": [
    "# Resample the training data with SMOTE\n",
    "from imblearn.over_sampling import SMOTE\n",
    "X_resampled, y_resampled = SMOTE(random_state=1, ratio=1.0).fit_resample(\n",
    "   X_train, y_train\n",
    ")\n",
    "Counter(y_resampled)"
   ]
  },
  {
   "cell_type": "code",
   "execution_count": 25,
   "metadata": {},
   "outputs": [
    {
     "output_type": "execute_result",
     "data": {
      "text/plain": "LogisticRegression(C=1.0, class_weight=None, dual=False, fit_intercept=True,\n                   intercept_scaling=1, l1_ratio=None, max_iter=100,\n                   multi_class='auto', n_jobs=None, penalty='l2',\n                   random_state=1, solver='lbfgs', tol=0.0001, verbose=0,\n                   warm_start=False)"
     },
     "metadata": {},
     "execution_count": 25
    }
   ],
   "source": [
    "# Train the Logistic Regression model using the resampled data\n",
    "model = LogisticRegression(solver='lbfgs', random_state=1)\n",
    "model.fit(X_resampled, y_resampled)"
   ]
  },
  {
   "cell_type": "code",
   "execution_count": 26,
   "metadata": {},
   "outputs": [
    {
     "output_type": "execute_result",
     "data": {
      "text/plain": "0.7719244065426187"
     },
     "metadata": {},
     "execution_count": 26
    }
   ],
   "source": [
    "# Calculated the balanced accuracy score\n",
    "y_pred = model.predict(X_test)\n",
    "balanced_accuracy_score(y_test, y_pred)"
   ]
  },
  {
   "cell_type": "code",
   "execution_count": 27,
   "metadata": {},
   "outputs": [
    {
     "output_type": "execute_result",
     "data": {
      "text/plain": "array([[   75,    26],\n       [ 3399, 13705]], dtype=int64)"
     },
     "metadata": {},
     "execution_count": 27
    }
   ],
   "source": [
    "# Display the confusion matrix\n",
    "confusion_matrix(y_test, y_pred)"
   ]
  },
  {
   "cell_type": "code",
   "execution_count": 28,
   "metadata": {},
   "outputs": [
    {
     "output_type": "stream",
     "name": "stdout",
     "text": "pre       rec       spe        f1       geo       iba       sup\n\n  high_risk       0.02      0.74      0.80      0.04      0.77      0.59       101\n   low_risk       1.00      0.80      0.74      0.89      0.77      0.60     17104\n\navg / total       0.99      0.80      0.74      0.88      0.77      0.60     17205\n\n"
    }
   ],
   "source": [
    "# Print the imbalanced classification report\n",
    "print(classification_report_imbalanced(y_test, y_pred))"
   ]
  },
  {
   "cell_type": "markdown",
   "metadata": {},
   "source": [
    "# Undersampling\n",
    "\n",
    "In this section, you will test an undersampling algorithms to determine which algorithm results in the best performance compared to the oversampling algorithms above. You will undersample the data using the Cluster Centroids algorithm and complete the folliowing steps:\n",
    "\n",
    "1. View the count of the target classes using `Counter` from the collections library. \n",
    "3. Use the resampled data to train a logistic regression model.\n",
    "3. Calculate the balanced accuracy score from sklearn.metrics.\n",
    "4. Print the confusion matrix from sklearn.metrics.\n",
    "5. Generate a classication report using the `imbalanced_classification_report` from imbalanced-learn.\n",
    "\n",
    "Note: Use a random state of 1 for each sampling algorithm to ensure consistency between tests"
   ]
  },
  {
   "cell_type": "code",
   "execution_count": 30,
   "metadata": {},
   "outputs": [],
   "source": [
    "# Resample the data using the ClusterCentroids resampler\n",
    "from sklearn.model_selection import train_test_split\n",
    "X_train, X_test, y_train, y_test = train_test_split(X, y, random_state=1)"
   ]
  },
  {
   "cell_type": "code",
   "execution_count": 31,
   "metadata": {},
   "outputs": [
    {
     "output_type": "execute_result",
     "data": {
      "text/plain": "Counter({'high_risk': 246, 'low_risk': 246})"
     },
     "metadata": {},
     "execution_count": 31
    }
   ],
   "source": [
    "from imblearn.under_sampling import RandomUnderSampler\n",
    "ros = RandomUnderSampler(random_state=1)\n",
    "X_resampled, y_resampled = ros.fit_resample(X_train, y_train)\n",
    "Counter(y_resampled)"
   ]
  },
  {
   "cell_type": "code",
   "execution_count": 32,
   "metadata": {},
   "outputs": [
    {
     "output_type": "execute_result",
     "data": {
      "text/plain": "LogisticRegression(C=1.0, class_weight=None, dual=False, fit_intercept=True,\n                   intercept_scaling=1, l1_ratio=None, max_iter=100,\n                   multi_class='auto', n_jobs=None, penalty='l2',\n                   random_state=1, solver='lbfgs', tol=0.0001, verbose=0,\n                   warm_start=False)"
     },
     "metadata": {},
     "execution_count": 32
    }
   ],
   "source": [
    "# Train the Logistic Regression model using the resampled data\n",
    "from sklearn.linear_model import LogisticRegression\n",
    "model = LogisticRegression(solver='lbfgs', random_state=1)\n",
    "model.fit(X_resampled, y_resampled)"
   ]
  },
  {
   "cell_type": "code",
   "execution_count": 33,
   "metadata": {},
   "outputs": [
    {
     "output_type": "execute_result",
     "data": {
      "text/plain": "0.7535762579999814"
     },
     "metadata": {},
     "execution_count": 33
    }
   ],
   "source": [
    "# Calculated the balanced accuracy score\n",
    "y_pred = model.predict(X_test)\n",
    "\n",
    "from sklearn.metrics import balanced_accuracy_score\n",
    "balanced_accuracy_score(y_test, y_pred)"
   ]
  },
  {
   "cell_type": "code",
   "execution_count": 34,
   "metadata": {},
   "outputs": [
    {
     "output_type": "execute_result",
     "data": {
      "text/plain": "array([[   76,    25],\n       [ 4196, 12908]], dtype=int64)"
     },
     "metadata": {},
     "execution_count": 34
    }
   ],
   "source": [
    "# Display the confusion matrix\n",
    "from sklearn.metrics import confusion_matrix\n",
    "confusion_matrix(y_test, y_pred)"
   ]
  },
  {
   "cell_type": "code",
   "execution_count": 35,
   "metadata": {},
   "outputs": [
    {
     "output_type": "stream",
     "name": "stdout",
     "text": "pre       rec       spe        f1       geo       iba       sup\n\n  high_risk       0.02      0.75      0.75      0.03      0.75      0.57       101\n   low_risk       1.00      0.75      0.75      0.86      0.75      0.57     17104\n\navg / total       0.99      0.75      0.75      0.85      0.75      0.57     17205\n\n"
    }
   ],
   "source": [
    "# Print the imbalanced classification report\n",
    "from imblearn.metrics import classification_report_imbalanced\n",
    "print(classification_report_imbalanced(y_test, y_pred))"
   ]
  },
  {
   "cell_type": "markdown",
   "metadata": {},
   "source": [
    "# Combination (Over and Under) Sampling\n",
    "\n",
    "In this section, you will test a combination over- and under-sampling algorithm to determine if the algorithm results in the best performance compared to the other sampling algorithms above. You will resample the data using the SMOTEENN algorithm and complete the folliowing steps:\n",
    "\n",
    "1. View the count of the target classes using `Counter` from the collections library. \n",
    "3. Use the resampled data to train a logistic regression model.\n",
    "3. Calculate the balanced accuracy score from sklearn.metrics.\n",
    "4. Print the confusion matrix from sklearn.metrics.\n",
    "5. Generate a classication report using the `imbalanced_classification_report` from imbalanced-learn.\n",
    "\n",
    "Note: Use a random state of 1 for each sampling algorithm to ensure consistency between tests"
   ]
  },
  {
   "cell_type": "code",
   "execution_count": 41,
   "metadata": {},
   "outputs": [
    {
     "output_type": "execute_result",
     "data": {
      "text/plain": "Counter({'high_risk': 68458, 'low_risk': 62022})"
     },
     "metadata": {},
     "execution_count": 41
    }
   ],
   "source": [
    "# Resample the training data with SMOTEENN\n",
    "from sklearn.model_selection import train_test_split\n",
    "X_train, X_test, y_train, y_test = train_test_split(XCombo, y, random_state=1)\n",
    "\n",
    "from imblearn.combine import SMOTEENN\n",
    "smote_enn = SMOTEENN(random_state=1)\n",
    "X_resampled, y_resampled = smote_enn.fit_resample(XCombo, y)\n",
    "Counter(y_resampled)"
   ]
  },
  {
   "cell_type": "code",
   "execution_count": 37,
   "metadata": {},
   "outputs": [
    {
     "output_type": "execute_result",
     "data": {
      "text/plain": "LogisticRegression(C=1.0, class_weight=None, dual=False, fit_intercept=True,\n                   intercept_scaling=1, l1_ratio=None, max_iter=100,\n                   multi_class='auto', n_jobs=None, penalty='l2',\n                   random_state=1, solver='lbfgs', tol=0.0001, verbose=0,\n                   warm_start=False)"
     },
     "metadata": {},
     "execution_count": 37
    }
   ],
   "source": [
    "# Train the Logistic Regression model using the resampled data\n",
    "from sklearn.linear_model import LogisticRegression\n",
    "model = LogisticRegression(solver='lbfgs', random_state=1)\n",
    "model.fit(X_resampled, y_resampled)"
   ]
  },
  {
   "cell_type": "code",
   "execution_count": 38,
   "metadata": {},
   "outputs": [
    {
     "output_type": "execute_result",
     "data": {
      "text/plain": "0.6541359672683826"
     },
     "metadata": {},
     "execution_count": 38
    }
   ],
   "source": [
    "# Calculated the balanced accuracy score\n",
    "y_pred = model.predict(X_test)\n",
    "\n",
    "from sklearn.metrics import balanced_accuracy_score\n",
    "balanced_accuracy_score(y_test, y_pred)"
   ]
  },
  {
   "cell_type": "code",
   "execution_count": 39,
   "metadata": {},
   "outputs": [
    {
     "output_type": "execute_result",
     "data": {
      "text/plain": "array([[  77,   24],\n       [7767, 9337]], dtype=int64)"
     },
     "metadata": {},
     "execution_count": 39
    }
   ],
   "source": [
    "# Display the confusion matrix\n",
    "from sklearn.metrics import confusion_matrix\n",
    "confusion_matrix(y_test, y_pred)"
   ]
  },
  {
   "cell_type": "code",
   "execution_count": 40,
   "metadata": {},
   "outputs": [
    {
     "output_type": "stream",
     "name": "stdout",
     "text": "pre       rec       spe        f1       geo       iba       sup\n\n  high_risk       0.01      0.76      0.55      0.02      0.65      0.43       101\n   low_risk       1.00      0.55      0.76      0.71      0.65      0.41     17104\n\navg / total       0.99      0.55      0.76      0.70      0.65      0.41     17205\n\n"
    }
   ],
   "source": [
    "# Print the imbalanced classification report\n",
    "from imblearn.metrics import classification_report_imbalanced\n",
    "print(classification_report_imbalanced(y_test, y_pred))"
   ]
  },
  {
   "cell_type": "code",
   "execution_count": null,
   "metadata": {},
   "outputs": [],
   "source": []
  }
 ]
}